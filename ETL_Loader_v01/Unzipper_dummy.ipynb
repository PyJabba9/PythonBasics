{
 "cells": [
  {
   "cell_type": "code",
   "execution_count": 1,
   "id": "91e238e9-4ee3-443f-aa3e-3da9e37b88b1",
   "metadata": {},
   "outputs": [],
   "source": [
    "import zipfile, send2trash, time, shutil, os\n",
    "from pathlib import Path"
   ]
  },
  {
   "cell_type": "code",
   "execution_count": null,
   "id": "31ac073b-3079-418c-bb2d-c9415ed68a9e",
   "metadata": {},
   "outputs": [],
   "source": [
    "folder = Path('C:/Users/***/LOAD_PY/csv') # set to variable later\n",
    "mainfolder = Path('C:/Users/***/LOAD_PY') # set to variable later\n",
    "\n",
    "W_NEW = f'{folder}\\\\W.csv'"
   ]
  },
  {
   "cell_type": "code",
   "execution_count": 3,
   "id": "bc8e6f2b-34f6-41a5-8ac1-bd71d677ccee",
   "metadata": {},
   "outputs": [],
   "source": [
    "ZF = list(mainfolder.glob('*.zip'))\n"
   ]
  },
  {
   "cell_type": "code",
   "execution_count": 4,
   "id": "a8b3d2c0-a90e-4dc8-be62-21dca0c8f721",
   "metadata": {},
   "outputs": [],
   "source": [
    "for file in ZF:\n",
    "    with zipfile.ZipFile(file, 'r') as zip_ref:\n",
    "        # Extract all the contents into the specified directory\n",
    "        zip_ref.extractall(folder)\n",
    "        "
   ]
  },
  {
   "cell_type": "code",
   "execution_count": 5,
   "id": "30b01486-d458-4e51-b020-8473e30eab1b",
   "metadata": {},
   "outputs": [],
   "source": [
    "CSV_F = list(folder.glob('*.csv'))"
   ]
  },
  {
   "cell_type": "code",
   "execution_count": 6,
   "id": "10f53b4c-629c-43bd-abdf-f863c9acebfb",
   "metadata": {},
   "outputs": [],
   "source": [
    "time.sleep(3)"
   ]
  },
  {
   "cell_type": "code",
   "execution_count": null,
   "id": "f3e6c948-6989-4eab-af5b-5adea8e5a625",
   "metadata": {},
   "outputs": [
    {
     "name": "stdout",
     "output_type": "stream",
     "text": [
      "C:\\Users\\WAWFESEND\\OneDrive - JT International\\Pulpit\\CMR_LOAD_PY\\csv\\2024_WEEKLY_RMC_OTP_CIGAR_TV_LIQ_PODS_DEVICE_2025-10-16.csv\n",
      "C:\\Users\\WAWFESEND\\OneDrive - JT International\\Pulpit\\CMR_LOAD_PY\\csv\\jti_price_surowe.csv\n"
     ]
    }
   ],
   "source": [
    "for f in CSV_F:\n",
    "    if 'W' in str(f):\n",
    "        os.rename(f,W_NEW)       "
   ]
  },
  {
   "cell_type": "code",
   "execution_count": 8,
   "id": "ffbf276f-438f-4620-9d4d-c31d8e00e038",
   "metadata": {},
   "outputs": [],
   "source": [
    "time.sleep(3)"
   ]
  },
  {
   "cell_type": "code",
   "execution_count": 9,
   "id": "6f4c2d78-d04d-4842-bdf3-de34549df36d",
   "metadata": {},
   "outputs": [],
   "source": [
    "for file in ZF:\n",
    "    send2trash.send2trash(file)"
   ]
  }
 ],
 "metadata": {
  "kernelspec": {
   "display_name": "Python 3 (ipykernel)",
   "language": "python",
   "name": "python3"
  },
  "language_info": {
   "codemirror_mode": {
    "name": "ipython",
    "version": 3
   },
   "file_extension": ".py",
   "mimetype": "text/x-python",
   "name": "python",
   "nbconvert_exporter": "python",
   "pygments_lexer": "ipython3",
   "version": "3.13.5"
  }
 },
 "nbformat": 4,
 "nbformat_minor": 5
}
