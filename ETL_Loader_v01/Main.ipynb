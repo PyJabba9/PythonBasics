{
 "cells": [
  {
   "cell_type": "code",
   "execution_count": null,
   "id": "534a6168-e44a-4743-aa43-3112bf6f9256",
   "metadata": {},
   "outputs": [],
   "source": [
    "import csv, os, shutil, datetime, sys, pyodbc, decimal, subprocess, re, json\n",
    "from pathlib import Path"
   ]
  },
  {
   "cell_type": "code",
   "execution_count": 2,
   "id": "5ad98d65-b0a3-45bd-af72-f735e2f8d017",
   "metadata": {},
   "outputs": [],
   "source": [
    "current_dateTime = datetime.datetime.today().strftime('%Y-%m-%d') # actual datetime_ to be added into filename for archiving\n",
    "folder = Path('C:/Users/***/csv') # set to variable later\n",
    "Path(f'{folder}/Archive').mkdir(parents=True, exist_ok=True)\n",
    "folder_arch = Path('C:/Users/***/Archive/') #set to variable later\n",
    "folder_SQL_Scripts = Path('C:/Users/***/SQL_Scripts/') #set to variable later\n",
    "sql_file = list(folder_SQL_Scripts.glob('*TEST.sql'))\n"
   ]
  },
  {
   "cell_type": "code",
   "execution_count": null,
   "id": "43cf2c22-4616-4393-8cec-3e3a5c12250d",
   "metadata": {},
   "outputs": [],
   "source": [
    "# data reference connection as well as final destination for data load \n",
    "\n",
    "\n",
    "with open('C:/Users/***/SQL_conn_settings.json', 'r') as file:\n",
    "    data = json.load(file)\n",
    "\n",
    "conn_0 = pyodbc.connect(f\"Driver={data['Driver']};\" \n",
    "                      f\"Server={data['Server']};\"\n",
    "                      f\"Database={data['Database']};\"\n",
    "                      f\"Trusted_Connection={data['Trusted_Connection']};\")\n"
   ]
  },
  {
   "cell_type": "code",
   "execution_count": 4,
   "id": "43e4f06a-9ada-4e8b-af42-fd983de73cd0",
   "metadata": {},
   "outputs": [
    {
     "name": "stdout",
     "output_type": "stream",
     "text": [
      "[WindowsPath('C:/Users/WAWFESEND/OneDrive - JT International/Pulpit/CMR_LOAD_PY/WEEKLY_NEW.csv')]\n"
     ]
    }
   ],
   "source": [
    "CSV_file = list(folder.glob('*.csv')) # very important thing - if .glob used without list - it will contain a path value untill first use, after` that it is erased - this caused my archiving to break\n",
    "folder_arch_A = folder_arch.glob('*.csv')\n",
    "print(CSV_file) # debug line"
   ]
  },
  {
   "cell_type": "code",
   "execution_count": null,
   "id": "a3c453a6-3b4b-4a1e-983e-6a3f3cf9c04b",
   "metadata": {},
   "outputs": [
    {
     "name": "stdout",
     "output_type": "stream",
     "text": [
      "WEEKLY_NEW.csv\n"
     ]
    }
   ],
   "source": [
    "for f in CSV_file:\n",
    "    CSV_file_name = os.path.basename(f)\n",
    "    print(CSV_file_name) #debug line\n"
   ]
  },
  {
   "cell_type": "code",
   "execution_count": 6,
   "id": "4659bb43-a4cc-430b-a8dc-9aaca16354d1",
   "metadata": {},
   "outputs": [
    {
     "name": "stdout",
     "output_type": "stream",
     "text": [
      "Weekly_load_integrated_TEST.sql\n"
     ]
    }
   ],
   "source": [
    "#in case of bulk load, could stay for later to iterate through files - filename to be filtered as 2 files are being loaded per iteration\n",
    "for f in sql_file:\n",
    "    sql_path = f\n",
    "    sql_f = os.path.basename(f)\n",
    "    print(sql_f) #debug line"
   ]
  },
  {
   "cell_type": "code",
   "execution_count": null,
   "id": "1bdfb0dd-fce2-46a5-97fe-bee5756460e2",
   "metadata": {},
   "outputs": [
    {
     "name": "stdout",
     "output_type": "stream",
     "text": [
      "=== STDOUT ===\n",
      "WEEKLY DATA LOADED\n",
      "WEEKLY DATA TRANSFORMED\n",
      "WEEKLY DATA LOAD EXECUTED\n",
      "\n",
      "=== STDERR ===\n",
      "\n",
      "Exit code: 0\n"
     ]
    }
   ],
   "source": [
    "# executing powershell loader with subprocess library \n",
    "ps_script = r\"C:\\Users\\***\\CL1.ps1\" # change to relative path later\n",
    "function = \"W\" # change to variable for scaling later\n",
    "# params add here\n",
    "cmd = [\n",
    "    \"powershell.exe\",\n",
    "    \"-ExecutionPolicy\", \"Bypass\",\n",
    "    \"-Command\",\n",
    "    f'. \"{ps_script}\"; {function}'\n",
    "\n",
    "]\n",
    "\n",
    "# run\n",
    "result = subprocess.run(cmd, capture_output=True, text=True)\n",
    "\n",
    "# read shell reply\n",
    "print(\"=== STDOUT ===\")\n",
    "print(result.stdout)\n",
    "print(\"=== STDERR ===\")\n",
    "print(result.stderr)\n",
    "print(\"Exit code:\", result.returncode)\n"
   ]
  },
  {
   "cell_type": "code",
   "execution_count": null,
   "id": "0462eb12-16ab-48c3-920c-3a0fac042cd4",
   "metadata": {},
   "outputs": [],
   "source": [
    "def DQ_check(conn, cur): # DQ query - have to adjust for every concrete csv ingested\n",
    "#CHECKING NUMBER OF ROWS AND SUM OF VOL AND COMPARING AGAINST CLEAN DATA - DIFFERENCES MORE THAN 25% WILL RAISE ALERT#\n",
    "#    with conn_0:\n",
    "#        cur_0 = conn_0.cursor()\n",
    "\n",
    "    sqlQuery = \"SELECT SUM(cast(vol AS NUMERIC))/COUNT(DISTINCT(dt))/1000000000,COUNT(dt)/COUNT(DISTINCT(dt)), dt FROM [DB].[temp_temp] WHERE period = 'week' AND dt <(SELECT MAX(dt) FROM [DB].[temp_temp])  group by dt\"\n",
    "    sqlQuery_0 = \"SELECT SUM(cast(vol AS NUMERIC))/COUNT(DISTINCT(dt))/1000000000,COUNT(dt)/COUNT(DISTINCT(dt)) FROM [DB].[master] WHERE period = 'week' and dt <(select max(dt) from [DB].[master]) and dt>= DATEADD(DAY, -90, GETDATE())\"\n",
    "    cur_0.execute(sqlQuery_0)\n",
    "    K = cur_0.fetchall()\n",
    "    \n",
    "    for x,v in K: # Getting average meanings for num of rows and gross vol from benchmark DB\n",
    "        print(f'Average Gross Volume: {x} Number of rows: {v}')\n",
    "        #None - remove hash after debug \n",
    "    cur_0.execute(sqlQuery)\n",
    "    L = cur_0.fetchall()\n",
    "    for k,c,i in L:\n",
    "        \n",
    "\n",
    "        if ((decimal.Decimal(k)/x)-1)*100 >= 25:\n",
    "            print(f'Gross Volume ({k}) is higher than average meaning ({x}) for more than 25%, please review date from {i}')\n",
    "            print('Do you want to continue loading? y/n')\n",
    "            while True:\n",
    "                answer = input()\n",
    "                if answer == 'y':\n",
    "                    return(answer)\n",
    "                    break\n",
    "                if answer == 'n':\n",
    "                    return(answer)\n",
    "                    break\n",
    "                else:\n",
    "                    print('Please provide correct answer, y/n')\n",
    "\n",
    "        elif ((float(c)/v)-1)*100 >= 25:\n",
    "            print(f'Number of rows ({k}) is higher than average meaning ({v}) for more than 25%, please review date from {i}')\n",
    "            print('Do you want to continue loading? y/n')\n",
    "            while True:\n",
    "                answer = input()\n",
    "                if answer == 'y':\n",
    "                    return(answer)\n",
    "                    break\n",
    "                if answer == 'n':\n",
    "                    return(answer)\n",
    "                    break\n",
    "                else:\n",
    "                    print('Please provide correct answer, y/n')\n",
    "\n",
    "        elif ((decimal.Decimal(k)/x)-1)*100 <= -25:\n",
    "            print(f'Gross Volume ({k}) is lower than average meaning ({x}) for more than 25%, please review date from {i}')\n",
    "            print('Do you want to continue loading? y/n')\n",
    "            while True:\n",
    "                answer = input()\n",
    "                if answer == 'y':\n",
    "                    return(answer)\n",
    "                    break\n",
    "                if answer == 'n':\n",
    "                    return(answer)\n",
    "                    break\n",
    "                else:\n",
    "                    print('Please provide correct answer, y/n')\n",
    "\n",
    "        elif ((float(c)/v)-1)*100 <= -25:\n",
    "            print(f'Number of rows ({k}) is lower than average meaning ({v}) for more than 25%, please review date from {i}')\n",
    "            print('Do you want to continue loading? y/n')\n",
    "            while True:\n",
    "                answer = input()\n",
    "                if answer == 'y':\n",
    "                    return(answer)\n",
    "                    break\n",
    "                if answer == 'n':\n",
    "                    return(answer)\n",
    "                    break\n",
    "                else:\n",
    "                    print('Please provide correct answer, y/n')\n",
    "\n",
    "        else:\n",
    "            print(f'Date: {i} Gross Volume: {k} Number of rows: {c}')\n",
    "    print('Do you want to continue loading? y/n')\n",
    "    while True:\n",
    "        answer = input()\n",
    "        if answer == 'y':\n",
    "            return(answer)\n",
    "            break\n",
    "        if answer == 'n':\n",
    "            return(answer)\n",
    "            break\n",
    "        else:\n",
    "            print('Please provide correct answer, y/n')\n",
    "\n"
   ]
  },
  {
   "cell_type": "code",
   "execution_count": 9,
   "id": "480c37b3-0263-418c-b702-1c16cf01eac6",
   "metadata": {},
   "outputs": [],
   "source": [
    "def exec_sql_file(cur_0, sql_file):\n",
    "    #SCRIPT TO RUN SQL FILE \n",
    "    print (\"\\n[INFO] Executing SQL script file: '%s'\" % (sql_file))\n",
    "    statement = \"\"\n",
    "    \n",
    "\n",
    "    \n",
    "    for line in open(sql_file,'r',encoding='utf-8'):\n",
    "\n",
    "        print(line)\n",
    "        \n",
    "        if re.match(r'--', line):  # ignore sql comment lines\n",
    "            continue\n",
    "        if not re.search(r';$', line):  # keep appending lines that don't end in ';'\n",
    "            statement = statement + line\n",
    "            \n",
    "        else:  # when you get a line ending in ';' then exec statement and reset for next statement\n",
    "            statement = statement + line\n",
    "            \n",
    "            print (\"\\n\\n[DEBUG] Executing SQL statement:\\n%s\" % (statement))\n",
    "            try:\n",
    "                with conn_0:\n",
    "                    cur_0 = conn_0.cursor()\n",
    "                    cur_0.execute(statement)\n",
    "                    conn_0.commit()\n",
    "            except (OperationalError, ProgrammingError) as e:\n",
    "                print(\"\\n[WARN] MySQLError during execute statement \\n\\tArgs: '%s'\" % (str(e.args)))\n",
    "\n",
    "            statement = \"\"\n",
    "    "
   ]
  },
  {
   "cell_type": "code",
   "execution_count": 10,
   "id": "c8b343d9-b0b1-472a-a317-0977cbcbdfc5",
   "metadata": {},
   "outputs": [
    {
     "name": "stdout",
     "output_type": "stream",
     "text": [
      "Average Gross Volume: 56.049036 Number of rows: 31345\n",
      "Date: 2025-08-04 00:00:00 Gross Volume: 57.857225 Number of rows: 31695\n",
      "Date: 2025-08-11 00:00:00 Gross Volume: 59.463271 Number of rows: 31458\n",
      "Date: 2025-08-18 00:00:00 Gross Volume: 57.441074 Number of rows: 31843\n",
      "Date: 2025-08-25 00:00:00 Gross Volume: 56.030912 Number of rows: 32053\n",
      "Date: 2025-09-01 00:00:00 Gross Volume: 56.245135 Number of rows: 31470\n",
      "Date: 2025-09-08 00:00:00 Gross Volume: 56.497257 Number of rows: 31123\n",
      "Date: 2025-09-15 00:00:00 Gross Volume: 54.857882 Number of rows: 30742\n",
      "Date: 2025-09-22 00:00:00 Gross Volume: 53.609987 Number of rows: 30717\n",
      "Date: 2025-09-29 00:00:00 Gross Volume: 51.950150 Number of rows: 30851\n",
      "Do you want to continue loading? y/n\n"
     ]
    },
    {
     "name": "stdout",
     "output_type": "stream",
     "text": [
      " y\n"
     ]
    }
   ],
   "source": [
    "with conn_0:\n",
    "    cur_0 = conn_0.cursor()\n",
    "    repl = DQ_check(conn_0, cur_0)"
   ]
  },
  {
   "cell_type": "code",
   "execution_count": null,
   "id": "5dc969c2-a7b7-4275-96d0-b7db95145959",
   "metadata": {},
   "outputs": [
    {
     "name": "stdout",
     "output_type": "stream",
     "text": [
      "Loading started\n",
      "Data loaded, archiving files\n",
      "WEEKLY_NEW.csv\n",
      "Archivisation complete\n"
     ]
    }
   ],
   "source": [
    "if repl == 'n':\n",
    "\n",
    "    try:\n",
    "        sys.exit()\n",
    "    except:\n",
    "        print('Exiting')\n",
    "\n",
    "elif repl == 'y':\n",
    "    with conn_0:\n",
    "        cur_0 = conn_0.cursor()\n",
    "        print('Loading started')\n",
    "        cur_0.execute(\"INSERT INTO [DB].[table_new] SELECT * FROM [DB].[temp_temp]\")\n",
    "        cur_0.execute('DELETE from [DB].[temp_temp]')\n",
    "        \n",
    "    \n",
    "        print('Data loaded, archiving files')\n",
    "        for f in list(CSV_file): # moving file into archive folder\n",
    "            CSV_file_name = os.path.basename(f)\n",
    "            print(CSV_file_name)\n",
    "            shutil.move(folder/CSV_file_name,folder_arch/CSV_file_name)\n",
    "    \n",
    "    \n",
    "        for F in list(folder_arch_A): #renaming in the archived folder\n",
    "            CSV_file_name = os.path.basename(F)\n",
    "            CSV_file_name_F = str(CSV_file_name[:-4])\n",
    "            archiveName = str(CSV_file_name_F)+'_'+ str(current_dateTime+'.csv')\n",
    "            shutil.move(folder_arch/F,folder_arch/archiveName)\n",
    "        print('Archivisation complete')\n",
    "\n",
    "\n",
    "\n"
   ]
  },
  {
   "cell_type": "code",
   "execution_count": 12,
   "id": "33103213-ca4d-4a22-9146-bf9ea0660190",
   "metadata": {},
   "outputs": [
    {
     "name": "stdout",
     "output_type": "stream",
     "text": [
      "\n",
      "[INFO] Executing SQL script file: 'C:\\Users\\WAWFESEND\\OneDrive - JT International\\Pulpit\\CMR_LOAD_PY\\SQL_Scripts\\Weekly_load_integrated_TEST.sql'\n",
      "update [MARKET_INTELLIGENCE].[dbo].[CMR_0master_new]\n",
      "\n",
      "set kategoria = '111';\n",
      "\n",
      "\n",
      "\n",
      "[DEBUG] Executing SQL statement:\n",
      "update [MARKET_INTELLIGENCE].[dbo].[CMR_0master_new]\n",
      "set kategoria = '111';\n",
      "\n",
      "\n",
      "\n",
      "update [MARKET_INTELLIGENCE].[dbo].[CMR_0master_new]\n",
      "\n",
      "set kanal_dystrybucji = '111';\n",
      "\n",
      "\n",
      "\n",
      "[DEBUG] Executing SQL statement:\n",
      "\n",
      "update [MARKET_INTELLIGENCE].[dbo].[CMR_0master_new]\n",
      "set kanal_dystrybucji = '111';\n",
      "\n",
      "\n",
      "\n",
      "update [MARKET_INTELLIGENCE].[dbo].[CMR_0master_new]\n",
      "\n",
      "set ean = '111';\n",
      "\n",
      "\n",
      "\n",
      "[DEBUG] Executing SQL statement:\n",
      "\n",
      "update [MARKET_INTELLIGENCE].[dbo].[CMR_0master_new]\n",
      "set ean = '111';\n",
      "\n",
      "\n",
      "\n",
      "update [MARKET_INTELLIGENCE].[dbo].[CMR_0master_new]\n",
      "\n",
      "set marka = '111';\n",
      "\n",
      "\n",
      "[DEBUG] Executing SQL statement:\n",
      "\n",
      "update [MARKET_INTELLIGENCE].[dbo].[CMR_0master_new]\n",
      "set marka = '111';\n"
     ]
    }
   ],
   "source": [
    "exec_sql_file(cur_0,sql_path)\n",
    "\n",
    "cur_0.close()\n",
    "conn_0.close()"
   ]
  },
  {
   "cell_type": "code",
   "execution_count": null,
   "id": "26bf71cf-6afa-42bf-8970-40ff6c9aa013",
   "metadata": {},
   "outputs": [],
   "source": []
  }
 ],
 "metadata": {
  "kernelspec": {
   "display_name": "Python 3 (ipykernel)",
   "language": "python",
   "name": "python3"
  },
  "language_info": {
   "codemirror_mode": {
    "name": "ipython",
    "version": 3
   },
   "file_extension": ".py",
   "mimetype": "text/x-python",
   "name": "python",
   "nbconvert_exporter": "python",
   "pygments_lexer": "ipython3",
   "version": "3.13.5"
  }
 },
 "nbformat": 4,
 "nbformat_minor": 5
}
