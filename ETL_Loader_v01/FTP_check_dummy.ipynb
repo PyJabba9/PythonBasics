{
 "cells": [
  {
   "cell_type": "code",
   "execution_count": 64,
   "id": "44a5d7c7-dd10-4f6e-afa4-9e3721c5d5d6",
   "metadata": {},
   "outputs": [],
   "source": [
    "import urllib.request, re, pandas as pd"
   ]
  },
  {
   "cell_type": "code",
   "execution_count": 65,
   "id": "7e1125c3-ddc1-4ca2-90e4-c8902096890a",
   "metadata": {},
   "outputs": [],
   "source": [
    "excel = pd.read_excel('C:/Users/***/FTP/W.xlsx', header = None)"
   ]
  },
  {
   "cell_type": "code",
   "execution_count": 66,
   "id": "6094bda3-e999-466e-a279-4442084a4714",
   "metadata": {},
   "outputs": [],
   "source": [
    "excel[1] = excel[1].str.replace('[','')\n",
    "excel[1] = excel[1].str.replace(']','')\n",
    "excel[1] = excel[1].str.replace(\"'\",'')\n",
    "excel[1] = excel[1].str.replace(\"'\",'')\n",
    "excel[2] = excel[2].str.replace('[','')\n",
    "excel[2] = excel[2].str.replace(']','')\n",
    "excel[2] = excel[2].str.replace(\"'\",'')\n",
    "excel[2] = excel[2].str.replace(\"'\",'')\n",
    "excel = excel.drop(0, axis=1)"
   ]
  },
  {
   "cell_type": "code",
   "execution_count": 70,
   "id": "80c5c543-7640-45a4-89cf-29b00d77d613",
   "metadata": {},
   "outputs": [
    {
     "name": "stdout",
     "output_type": "stream",
     "text": [
      "item found:          1                                                  2\n",
      "9  18919534  2024_WEEKLY_RMC_OTP_CIGAR_TV_LIQ_PODS_DEVICE_2...\n"
     ]
    }
   ],
   "source": [
    "for l in excel[2]:\n",
    "    if 'archivename.zip' in str(l):\n",
    "        print(f'item found:{excel.loc[excel[2] == 'archivename.zip']}')"
   ]
  },
  {
   "cell_type": "code",
   "execution_count": null,
   "id": "47cd82e9-b9a3-426f-a82b-15eda3286992",
   "metadata": {},
   "outputs": [],
   "source": [
    "# NOW ADD HERE AN ACTUAL MECHANISM THAT WILL ITERATE THROUGH EVERY ELEMENT FROM 2 COLUMN"
   ]
  }
 ],
 "metadata": {
  "kernelspec": {
   "display_name": "Python 3 (ipykernel)",
   "language": "python",
   "name": "python3"
  },
  "language_info": {
   "codemirror_mode": {
    "name": "ipython",
    "version": 3
   },
   "file_extension": ".py",
   "mimetype": "text/x-python",
   "name": "python",
   "nbconvert_exporter": "python",
   "pygments_lexer": "ipython3",
   "version": "3.13.5"
  }
 },
 "nbformat": 4,
 "nbformat_minor": 5
}
