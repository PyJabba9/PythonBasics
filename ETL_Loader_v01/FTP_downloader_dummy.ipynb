{
 "cells": [
  {
   "cell_type": "code",
   "execution_count": 780,
   "id": "7e95dd72-6458-459a-85f3-28f0efb97db4",
   "metadata": {},
   "outputs": [],
   "source": [
    "import urllib.request, re, pandas as pd"
   ]
  },
  {
   "cell_type": "code",
   "execution_count": 782,
   "id": "9295aa98-d79d-40e7-baa4-1778d8ba9dbb",
   "metadata": {},
   "outputs": [],
   "source": [
    "#SET PATTERN SO I PARSE LINES CORRECTLY EXTRACTING FILENAMES AND SIZES\n",
    "pattern1 = re.compile(r'********')\n",
    "pattern2 = re.compile(r'*****')\n"
   ]
  },
  {
   "cell_type": "code",
   "execution_count": 783,
   "id": "bae479c9-80c8-418e-80c6-27d6756984a0",
   "metadata": {},
   "outputs": [],
   "source": [
    "def list_ftp_files_urllib(url):\n",
    "    with urllib.request.urlopen(url) as response:\n",
    "        data = response.read().decode('utf8')\n",
    "        files = data.splitlines()\n",
    "        return files"
   ]
  },
  {
   "cell_type": "code",
   "execution_count": 784,
   "id": "c6f839f6-6bb5-4677-b15b-a441371e3e18",
   "metadata": {},
   "outputs": [],
   "source": [
    "ftp_folder_url = '***********'"
   ]
  },
  {
   "cell_type": "code",
   "execution_count": 785,
   "id": "b665048b-4233-4895-81d2-dbb6f5bc77ea",
   "metadata": {},
   "outputs": [],
   "source": [
    "files = list_ftp_files_urllib(ftp_folder_url)"
   ]
  },
  {
   "cell_type": "code",
   "execution_count": 786,
   "id": "34ebc5ba-6387-405f-b965-7dcf235d56db",
   "metadata": {},
   "outputs": [],
   "source": [
    "# next - create a way to check changes every time the program is ran against the stored dictionary - if file is not in the dic - DOWNLOAD (using the name )\n",
    "# have the file where data is stored - now iterate through every element from the list (size + filename) and check if those are in the file\n",
    "matches = []\n",
    "for f in files:\n",
    "\n",
    "   matches.append([pattern1.findall(f),pattern2.findall(f)])\n",
    "   "
   ]
  },
  {
   "cell_type": "code",
   "execution_count": 800,
   "id": "8ba226bd-25f6-4922-91ee-a9ce4f94b286",
   "metadata": {},
   "outputs": [
    {
     "name": "stdout",
     "output_type": "stream",
     "text": [
      "2024_WEEKLY_RMC_OTP_CIGAR_TV_LIQ_PODS_DEVICE_2024-12-05.zip\n",
      "['18919534']\n"
     ]
    }
   ],
   "source": [
    "# have the file where data is stored - now iterate through every element from the list (size + filename) and check if those are in the file\n",
    "debugval = 'filearchive.zip' # THIS VALUE HAS TO COME FROM SAVED FILE (and every single value from the file has to be checked against)\n",
    "for k in range(len(matches)): \n",
    "    #print(matches[k][1])\n",
    "    if debugval in matches[k][1]:\n",
    "        print(debugval)\n",
    "        print(matches[k][0])"
   ]
  },
  {
   "cell_type": "code",
   "execution_count": 772,
   "id": "14cd986c-c9d8-4889-9a49-cf425e19c7d9",
   "metadata": {},
   "outputs": [],
   "source": [
    "df = pd.DataFrame(matches)"
   ]
  },
  {
   "cell_type": "code",
   "execution_count": 773,
   "id": "61bafc8f-b5fe-4b6f-88cc-096e0b59d03c",
   "metadata": {},
   "outputs": [],
   "source": [
    "df.to_excel('C:/Users/***/FTP/W.xlsx')"
   ]
  }
 ],
 "metadata": {
  "kernelspec": {
   "display_name": "Python 3 (ipykernel)",
   "language": "python",
   "name": "python3"
  },
  "language_info": {
   "codemirror_mode": {
    "name": "ipython",
    "version": 3
   },
   "file_extension": ".py",
   "mimetype": "text/x-python",
   "name": "python",
   "nbconvert_exporter": "python",
   "pygments_lexer": "ipython3",
   "version": "3.13.5"
  }
 },
 "nbformat": 4,
 "nbformat_minor": 5
}
